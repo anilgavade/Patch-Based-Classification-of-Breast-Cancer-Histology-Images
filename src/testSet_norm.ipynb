{
 "cells": [
  {
   "cell_type": "code",
   "execution_count": 1,
   "metadata": {},
   "outputs": [
    {
     "name": "stdout",
     "output_type": "stream",
     "text": [
      "./../Dataset/ICIAR2018_BACH_Challenge/Test_org_SN/11.tif\n",
      "./../Dataset/ICIAR2018_BACH_Challenge/Test_org_SN/18.tif\n",
      "./../Dataset/ICIAR2018_BACH_Challenge/Test_org_SN/24.tif\n",
      "./../Dataset/ICIAR2018_BACH_Challenge/Test_org_SN/31.tif\n",
      "./../Dataset/ICIAR2018_BACH_Challenge/Test_org_SN/1.tif\n",
      "./../Dataset/ICIAR2018_BACH_Challenge/Test_org_SN/3.tif\n",
      "./../Dataset/ICIAR2018_BACH_Challenge/Test_org_SN/25.tif\n",
      "./../Dataset/ICIAR2018_BACH_Challenge/Test_org_SN/7.tif\n",
      "./../Dataset/ICIAR2018_BACH_Challenge/Test_org_SN/28.tif\n",
      "./../Dataset/ICIAR2018_BACH_Challenge/Test_org_SN/30.tif\n",
      "./../Dataset/ICIAR2018_BACH_Challenge/Test_org_SN/6.tif\n",
      "./../Dataset/ICIAR2018_BACH_Challenge/Test_org_SN/35.tif\n",
      "./../Dataset/ICIAR2018_BACH_Challenge/Test_org_SN/14.tif\n",
      "./../Dataset/ICIAR2018_BACH_Challenge/Test_org_SN/23.tif\n",
      "./../Dataset/ICIAR2018_BACH_Challenge/Test_org_SN/13.tif\n",
      "./../Dataset/ICIAR2018_BACH_Challenge/Test_org_SN/5.tif\n",
      "./../Dataset/ICIAR2018_BACH_Challenge/Test_org_SN/32.tif\n",
      "./../Dataset/ICIAR2018_BACH_Challenge/Test_org_SN/20.tif\n",
      "./../Dataset/ICIAR2018_BACH_Challenge/Test_org_SN/8.tif\n",
      "./../Dataset/ICIAR2018_BACH_Challenge/Test_org_SN/9.tif\n",
      "./../Dataset/ICIAR2018_BACH_Challenge/Test_org_SN/26.tif\n",
      "./../Dataset/ICIAR2018_BACH_Challenge/Test_org_SN/17.tif\n",
      "./../Dataset/ICIAR2018_BACH_Challenge/Test_org_SN/2.tif\n",
      "./../Dataset/ICIAR2018_BACH_Challenge/Test_org_SN/34.tif\n",
      "./../Dataset/ICIAR2018_BACH_Challenge/Test_org_SN/4.tif\n",
      "./../Dataset/ICIAR2018_BACH_Challenge/Test_org_SN/33.tif\n",
      "./../Dataset/ICIAR2018_BACH_Challenge/Test_org_SN/15.tif\n",
      "./../Dataset/ICIAR2018_BACH_Challenge/Test_org_SN/0.tif\n",
      "./../Dataset/ICIAR2018_BACH_Challenge/Test_org_SN/21.tif\n",
      "./../Dataset/ICIAR2018_BACH_Challenge/Test_org_SN/19.tif\n",
      "./../Dataset/ICIAR2018_BACH_Challenge/Test_org_SN/16.tif\n",
      "./../Dataset/ICIAR2018_BACH_Challenge/Test_org_SN/27.tif\n",
      "./../Dataset/ICIAR2018_BACH_Challenge/Test_org_SN/29.tif\n",
      "./../Dataset/ICIAR2018_BACH_Challenge/Test_org_SN/22.tif\n",
      "./../Dataset/ICIAR2018_BACH_Challenge/Test_org_SN/10.tif\n",
      "./../Dataset/ICIAR2018_BACH_Challenge/Test_org_SN/12.tif\n"
     ]
    },
    {
     "name": "stderr",
     "output_type": "stream",
     "text": [
      "org_normalizeStaining.py:51: FutureWarning: `rcond` parameter will change to the default of machine precision times ``max(M, N)`` where M and N are the input matrix dimensions.\n",
      "To use the future default and silence this warning we advise to pass `rcond=None`, to keep using the old, explicitly pass `rcond=-1`.\n",
      "  C=np.linalg.lstsq(HE,Y)\n"
     ]
    }
   ],
   "source": [
    "##################################################################################################\n",
    "# Patch-based Classification of Breast Cancer Histology Images using CNNs\n",
    "# LE48: MiniProject\n",
    "# Jan Ondras (jo356), Trinity College\n",
    "# 2017/2018\n",
    "##################################################################################################\n",
    "####################################################################################################\n",
    "# Stain normalise the test set\n",
    "####################################################################################################\n",
    "\n",
    "import sys\n",
    "import tifffile as tiff\n",
    "import os\n",
    "import numpy as np\n",
    "from PIL import Image\n",
    "import os\n",
    "import matplotlib.pyplot as plt\n",
    "import cv2\n",
    "import glob\n",
    "import org_normalizeStaining as norm\n",
    "\n",
    "testset_sybtype = 'org'\n",
    "# testset_sybtype = 'new'\n",
    "\n",
    "path_prefix = './../Dataset/ICIAR2018_BACH_Challenge/'\n",
    "\n",
    "for img_name in glob.glob(path_prefix + 'Test_' + testset_sybtype + '/*.tif'):\n",
    "    img = tiff.imread(img_name)\n",
    "    img_temp = np.array(img, dtype=np.uint8)\n",
    "    img_temp = np.array(img_temp, dtype=np.float64)\n",
    "    \n",
    "    # Pre-process image (HE normalization)\n",
    "    img_preproc = norm.normalizeStaining(img_temp)    \n",
    "    new_img_name = path_prefix + 'Test_' + testset_sybtype + '_SN/' + img_name.split('/')[-1]\n",
    "    print new_img_name\n",
    "    tiff.imsave(new_img_name, img_preproc)"
   ]
  },
  {
   "cell_type": "code",
   "execution_count": null,
   "metadata": {},
   "outputs": [],
   "source": []
  }
 ],
 "metadata": {
  "kernelspec": {
   "display_name": "Python 2",
   "language": "python",
   "name": "python2"
  },
  "language_info": {
   "codemirror_mode": {
    "name": "ipython",
    "version": 2
   },
   "file_extension": ".py",
   "mimetype": "text/x-python",
   "name": "python",
   "nbconvert_exporter": "python",
   "pygments_lexer": "ipython2",
   "version": "2.7.12"
  }
 },
 "nbformat": 4,
 "nbformat_minor": 2
}
